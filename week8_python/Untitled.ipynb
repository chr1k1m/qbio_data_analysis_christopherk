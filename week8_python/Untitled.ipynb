{
 "cells": [
  {
   "cell_type": "code",
   "execution_count": 1,
   "id": "a823e1bf",
   "metadata": {},
   "outputs": [
    {
     "name": "stdout",
     "output_type": "stream",
     "text": [
      "2.5 1.5\n"
     ]
    }
   ],
   "source": [
    "x = 4\n",
    "y = 2\n",
    "\n",
    "# 1. y = y / x (example is filled in below)\n",
    "y /= x\n",
    "\n",
    "# 2. y = y * 3\n",
    "y *= 3\n",
    "\n",
    "# 3. x = x - y\n",
    "x -= y\n",
    "\n",
    "print(x,y)\n",
    "\n",
    "# assert((x, y) == (2.5, 1.5))"
   ]
  },
  {
   "cell_type": "code",
   "execution_count": 2,
   "id": "700d2e12",
   "metadata": {},
   "outputs": [
    {
     "name": "stdout",
     "output_type": "stream",
     "text": [
      "[3, 4]\n",
      "2\n",
      "0\n"
     ]
    }
   ],
   "source": [
    "first_list = [0, 1, 2, 3, 4, 5, 6]\n",
    "# print(first_list[3:5]) [3, 4]\n",
    "# print(first_list[2]) [1]\n",
    "# print(first_list[0]) [NA]\n",
    "\n",
    "print(first_list[3:5])\n",
    "print(first_list[2])\n",
    "print(first_list[0])"
   ]
  },
  {
   "cell_type": "code",
   "execution_count": 4,
   "id": "5ec4e5b1",
   "metadata": {},
   "outputs": [
    {
     "name": "stdout",
     "output_type": "stream",
     "text": [
      "[2, 3, 4]\n"
     ]
    }
   ],
   "source": [
    "first_list = [0, 1, 2, 3, 4, 5, 6]\n",
    "short_list = first_list[2:5]\n",
    "print(short_list)\n",
    "# assert(short_list == [2,3,4])"
   ]
  },
  {
   "cell_type": "code",
   "execution_count": 5,
   "id": "55714e93",
   "metadata": {
    "scrolled": true
   },
   "outputs": [
    {
     "name": "stdout",
     "output_type": "stream",
     "text": [
      "7\n",
      "[0, 1, 4, 3, 4, 5, 6]\n"
     ]
    }
   ],
   "source": [
    "first_list = [0, 1, 2, 3, 4, 5, 6]\n",
    "# double the third value in first_list\n",
    "first_list[2] *= 2\n",
    "\n",
    "# print the length of first_list\n",
    "print(len(first_list))\n",
    "print(first_list)\n",
    "\n",
    "# assert(first_list == [0, 1, 4, 3, 4, 5, 6])"
   ]
  },
  {
   "cell_type": "code",
   "execution_count": 7,
   "id": "cd3b2276",
   "metadata": {
    "scrolled": true
   },
   "outputs": [
    {
     "name": "stdout",
     "output_type": "stream",
     "text": [
      "[9, 8, 7]\n"
     ]
    }
   ],
   "source": [
    "list_ex = []\n",
    "list_ex.append(9)\n",
    "list_ex.append(8)\n",
    "list_ex.append(7)\n",
    "print(list_ex)\n",
    "\n",
    "# assert(list_ex == [9,8,7])"
   ]
  },
  {
   "cell_type": "code",
   "execution_count": 10,
   "id": "ba0bbfee",
   "metadata": {},
   "outputs": [
    {
     "name": "stdout",
     "output_type": "stream",
     "text": [
      "21\n"
     ]
    }
   ],
   "source": [
    "nums = [1,2,3,4,5,6]\n",
    "total = 0\n",
    "\n",
    "for i in range(7):\n",
    "    total += i\n",
    "\n",
    "mean_value = total / len(nums)\n",
    "\n",
    "print(total)\n",
    "# assert(total == 3.5)"
   ]
  },
  {
   "cell_type": "code",
   "execution_count": 13,
   "id": "87e6ec20",
   "metadata": {
    "scrolled": true
   },
   "outputs": [
    {
     "name": "stdout",
     "output_type": "stream",
     "text": [
      "[0, 1, 2, 3, 4, 5, 6, 1, 'fish', 2, 'fish']\n"
     ]
    }
   ],
   "source": [
    "a_new_list = [1, 'fish', 2, 'fish']\n",
    "num_list = [0,1,2,3,4,5,6]\n",
    "\n",
    "for x in a_new_list:\n",
    "    num_list.append(x)\n",
    "print(num_list)\n",
    "\n",
    "# assert(num_list == [0,1,2,3,4,5,6,1,'fish',2,'fish'])"
   ]
  },
  {
   "cell_type": "code",
   "execution_count": 21,
   "id": "a3d847e0",
   "metadata": {},
   "outputs": [
    {
     "name": "stdout",
     "output_type": "stream",
     "text": [
      "T\n"
     ]
    },
    {
     "ename": "NameError",
     "evalue": "name 'A' is not defined",
     "output_type": "error",
     "traceback": [
      "\u001b[0;31m---------------------------------------------------------------------------\u001b[0m",
      "\u001b[0;31mNameError\u001b[0m                                 Traceback (most recent call last)",
      "\u001b[0;32m/var/folders/lt/qffknp251_3403d3y02qs_8h0000gn/T/ipykernel_22077/399791178.py\u001b[0m in \u001b[0;36m<module>\u001b[0;34m\u001b[0m\n\u001b[1;32m      3\u001b[0m \u001b[0;34m\u001b[0m\u001b[0m\n\u001b[1;32m      4\u001b[0m \u001b[0mstring_list\u001b[0m \u001b[0;34m=\u001b[0m \u001b[0;34m[\u001b[0m\u001b[0;34m\"Apple\"\u001b[0m\u001b[0;34m,\u001b[0m \u001b[0;34m\"Banana\"\u001b[0m\u001b[0;34m,\u001b[0m \u001b[0;34m\"Alligator\"\u001b[0m\u001b[0;34m,\u001b[0m \u001b[0;34m\"Anteater\"\u001b[0m\u001b[0;34m,\u001b[0m \u001b[0;34m\"Potato\"\u001b[0m\u001b[0;34m,\u001b[0m \u001b[0;34m\"Water\"\u001b[0m\u001b[0;34m,\u001b[0m \u001b[0;34m\"Aardvark\"\u001b[0m\u001b[0;34m]\u001b[0m\u001b[0;34m\u001b[0m\u001b[0;34m\u001b[0m\u001b[0m\n\u001b[0;32m----> 5\u001b[0;31m \u001b[0mstarts_A_list\u001b[0m \u001b[0;34m=\u001b[0m \u001b[0;34m[\u001b[0m\u001b[0mstring_list\u001b[0m\u001b[0;34m[\u001b[0m\u001b[0;36m0\u001b[0m\u001b[0;34m]\u001b[0m \u001b[0;34m<\u001b[0m\u001b[0;34m-\u001b[0m \u001b[0mA\u001b[0m\u001b[0;34m]\u001b[0m\u001b[0;34m\u001b[0m\u001b[0;34m\u001b[0m\u001b[0m\n\u001b[0m\u001b[1;32m      6\u001b[0m \u001b[0mprint\u001b[0m\u001b[0;34m(\u001b[0m\u001b[0mstarts_A_list\u001b[0m\u001b[0;34m)\u001b[0m\u001b[0;34m\u001b[0m\u001b[0;34m\u001b[0m\u001b[0m\n\u001b[1;32m      7\u001b[0m \u001b[0;34m\u001b[0m\u001b[0m\n",
      "\u001b[0;31mNameError\u001b[0m: name 'A' is not defined"
     ]
    }
   ],
   "source": [
    "my_string = \"Tree\"\n",
    "print(my_string[0])\n",
    "\n",
    "string_list = [\"Apple\", \"Banana\", \"Alligator\", \"Anteater\", \"Potato\", \"Water\", \"Aardvark\"]\n",
    "starts_A_list = [string_list[0] <- A]\n",
    "print(starts_A_list)\n",
    "\n",
    "\n",
    "# assert(starts_A_list == [\"Apple\", \"Alligator\", \"Anteater\", \"Aardvark\"])"
   ]
  },
  {
   "cell_type": "code",
   "execution_count": 23,
   "id": "7c06a2c7",
   "metadata": {},
   "outputs": [
    {
     "name": "stdout",
     "output_type": "stream",
     "text": [
      "21\n"
     ]
    }
   ],
   "source": [
    "some_nums = [20, -3, 54, 4, -10, 23, 3, 33, 23]\n",
    "while total > 100:\n",
    "    total = sum.some_nums\n",
    "    \n",
    "print(total)\n",
    "\n",
    "# assert(total == 124)"
   ]
  },
  {
   "cell_type": "code",
   "execution_count": 24,
   "id": "c2109439",
   "metadata": {},
   "outputs": [
    {
     "name": "stdout",
     "output_type": "stream",
     "text": [
      "5\n"
     ]
    }
   ],
   "source": [
    "my_nums = [1,4,2,5,3]\n",
    "\n",
    "print(max(my_nums))\n",
    "\n",
    "\n",
    "# assert(max(my_nums) == 5)"
   ]
  },
  {
   "cell_type": "code",
   "execution_count": 25,
   "id": "0f1b9baa",
   "metadata": {},
   "outputs": [
    {
     "ename": "SyntaxError",
     "evalue": "invalid syntax (2390032109.py, line 5)",
     "output_type": "error",
     "traceback": [
      "\u001b[0;36m  File \u001b[0;32m\"/var/folders/lt/qffknp251_3403d3y02qs_8h0000gn/T/ipykernel_22077/2390032109.py\"\u001b[0;36m, line \u001b[0;32m5\u001b[0m\n\u001b[0;31m    for my_nums:\u001b[0m\n\u001b[0m               ^\u001b[0m\n\u001b[0;31mSyntaxError\u001b[0m\u001b[0;31m:\u001b[0m invalid syntax\n"
     ]
    }
   ],
   "source": [
    "my_nums = [5,4,3,2,1]\n",
    "\n",
    "def double_every_number(nums):\n",
    "    results *= 2(nums)\n",
    "    for my_nums:\n",
    "        # do something here\n",
    "    return results\n",
    "\n",
    "print(double_every_number(my_nums))\n",
    "\n",
    "# assert(double_every_number(my_nums) == [10, 8, 6, 4, 2]"
   ]
  },
  {
   "cell_type": "code",
   "execution_count": 29,
   "id": "9e2c0e86",
   "metadata": {},
   "outputs": [
    {
     "name": "stdout",
     "output_type": "stream",
     "text": [
      "roses are red, violets are blue.\n"
     ]
    }
   ],
   "source": [
    "def print_args(a, b):\n",
    "    print(f\"{a} are red, {b} are blue.\")\n",
    "\n",
    "print_args(\"roses\", \"violets\")"
   ]
  },
  {
   "cell_type": "code",
   "execution_count": 31,
   "id": "83778f21",
   "metadata": {},
   "outputs": [
    {
     "ename": "SyntaxError",
     "evalue": "unexpected EOF while parsing (3899628451.py, line 6)",
     "output_type": "error",
     "traceback": [
      "\u001b[0;36m  File \u001b[0;32m\"/var/folders/lt/qffknp251_3403d3y02qs_8h0000gn/T/ipykernel_22077/3899628451.py\"\u001b[0;36m, line \u001b[0;32m6\u001b[0m\n\u001b[0;31m    print((add_to_list([0,1,2,3,4], [5,6,7,8,9]))\u001b[0m\n\u001b[0m                                                 ^\u001b[0m\n\u001b[0;31mSyntaxError\u001b[0m\u001b[0;31m:\u001b[0m unexpected EOF while parsing\n"
     ]
    }
   ],
   "source": [
    "from_list = [0, 1 ,2 , 3, 4]\n",
    "to_list = [5, 6, 7, 8, 9]\n",
    "for i, from_list in enumerate(from_list):\n",
    "    {from_list[i]}+{to_list}\n",
    "\n",
    "print((add_to_list([0,1,2,3,4], [5,6,7,8,9]))"
   ]
  },
  {
   "cell_type": "code",
   "execution_count": 32,
   "id": "e9ad319f",
   "metadata": {},
   "outputs": [],
   "source": [
    "import numpy as np"
   ]
  },
  {
   "cell_type": "code",
   "execution_count": 33,
   "id": "80ab99d1",
   "metadata": {},
   "outputs": [],
   "source": [
    "import matplotlib.pyplot as plt"
   ]
  },
  {
   "cell_type": "code",
   "execution_count": 35,
   "id": "4d6e0d48",
   "metadata": {},
   "outputs": [
    {
     "name": "stdout",
     "output_type": "stream",
     "text": [
      "[1 2 3]\n",
      "[ 0 10 20]\n"
     ]
    },
    {
     "ename": "TypeError",
     "evalue": "can only concatenate list (not \"int\") to list",
     "output_type": "error",
     "traceback": [
      "\u001b[0;31m---------------------------------------------------------------------------\u001b[0m",
      "\u001b[0;31mTypeError\u001b[0m                                 Traceback (most recent call last)",
      "\u001b[0;32m/var/folders/lt/qffknp251_3403d3y02qs_8h0000gn/T/ipykernel_22077/1217529562.py\u001b[0m in \u001b[0;36m<module>\u001b[0;34m\u001b[0m\n\u001b[1;32m      4\u001b[0m \u001b[0;34m\u001b[0m\u001b[0m\n\u001b[1;32m      5\u001b[0m \u001b[0;31m# this doesn't work -- uncomment this and see what happens!\u001b[0m\u001b[0;34m\u001b[0m\u001b[0;34m\u001b[0m\u001b[0m\n\u001b[0;32m----> 6\u001b[0;31m \u001b[0;34m[\u001b[0m\u001b[0;36m0\u001b[0m\u001b[0;34m,\u001b[0m \u001b[0;36m1\u001b[0m\u001b[0;34m,\u001b[0m \u001b[0;36m2\u001b[0m\u001b[0;34m]\u001b[0m \u001b[0;34m+\u001b[0m \u001b[0;36m1\u001b[0m\u001b[0;34m\u001b[0m\u001b[0;34m\u001b[0m\u001b[0m\n\u001b[0m\u001b[1;32m      7\u001b[0m \u001b[0;34m[\u001b[0m\u001b[0;36m0\u001b[0m\u001b[0;34m,\u001b[0m \u001b[0;36m1\u001b[0m\u001b[0;34m,\u001b[0m \u001b[0;36m2\u001b[0m\u001b[0;34m]\u001b[0m \u001b[0;34m*\u001b[0m \u001b[0;36m10\u001b[0m\u001b[0;34m\u001b[0m\u001b[0;34m\u001b[0m\u001b[0m\n",
      "\u001b[0;31mTypeError\u001b[0m: can only concatenate list (not \"int\") to list"
     ]
    }
   ],
   "source": [
    "nd_nums = np.array([0, 1, 2])\n",
    "print(nd_nums + 1)\n",
    "print(nd_nums * 10)\n",
    "\n",
    "# this doesn't work -- uncomment this and see what happens!\n",
    "[0, 1, 2] + 1\n",
    "[0, 1, 2] * 10"
   ]
  },
  {
   "cell_type": "code",
   "execution_count": 37,
   "id": "8de06bb4",
   "metadata": {},
   "outputs": [
    {
     "ename": "NameError",
     "evalue": "name 'nd_nums_postitive' is not defined",
     "output_type": "error",
     "traceback": [
      "\u001b[0;31m---------------------------------------------------------------------------\u001b[0m",
      "\u001b[0;31mNameError\u001b[0m                                 Traceback (most recent call last)",
      "\u001b[0;32m/var/folders/lt/qffknp251_3403d3y02qs_8h0000gn/T/ipykernel_22077/3306181512.py\u001b[0m in \u001b[0;36m<module>\u001b[0;34m\u001b[0m\n\u001b[1;32m      3\u001b[0m \u001b[0mpositive_mask\u001b[0m \u001b[0;34m=\u001b[0m \u001b[0mnd_nums\u001b[0m \u001b[0;34m>=\u001b[0m \u001b[0;36m0\u001b[0m\u001b[0;34m\u001b[0m\u001b[0;34m\u001b[0m\u001b[0m\n\u001b[1;32m      4\u001b[0m \u001b[0mnd_nums_positive\u001b[0m \u001b[0;34m=\u001b[0m \u001b[0mnd_nums\u001b[0m\u001b[0;34m[\u001b[0m\u001b[0mpositive_mask\u001b[0m\u001b[0;34m]\u001b[0m\u001b[0;34m\u001b[0m\u001b[0;34m\u001b[0m\u001b[0m\n\u001b[0;32m----> 5\u001b[0;31m \u001b[0mprint\u001b[0m\u001b[0;34m(\u001b[0m\u001b[0mnd_nums_postitive\u001b[0m\u001b[0;34m)\u001b[0m\u001b[0;34m\u001b[0m\u001b[0;34m\u001b[0m\u001b[0m\n\u001b[0m\u001b[1;32m      6\u001b[0m \u001b[0;34m\u001b[0m\u001b[0m\n\u001b[1;32m      7\u001b[0m \u001b[0;31m# assert(np.all(nd_nums_positive == [5, 0, 6, 1]))\u001b[0m\u001b[0;34m\u001b[0m\u001b[0;34m\u001b[0m\u001b[0m\n",
      "\u001b[0;31mNameError\u001b[0m: name 'nd_nums_postitive' is not defined"
     ]
    }
   ],
   "source": [
    "nd_nums = np.array([5, -2, -1, 0, 6, 1])\n",
    "\n",
    "positive_mask = nd_nums >= 0\n",
    "nd_nums_positive = nd_nums[positive_mask]\n",
    "print(nd_nums_postitive)\n",
    "\n",
    "# assert(np.all(nd_nums_positive == [5, 0, 6, 1]))"
   ]
  },
  {
   "cell_type": "code",
   "execution_count": 38,
   "id": "f3afcf16",
   "metadata": {},
   "outputs": [
    {
     "name": "stdout",
     "output_type": "stream",
     "text": [
      "[ 5. -2.]\n"
     ]
    }
   ],
   "source": [
    "nd_nums_with_NAs = np.array([5, -2, np.nan])\n",
    "NA_mask = np.isnan(nd_nums_with_NAs)\n",
    "nd_nums_with_NAs = nd_nums_with_NAs[~NA_mask]\n",
    "print(nd_nums_with_NAs)"
   ]
  },
  {
   "cell_type": "code",
   "execution_count": null,
   "id": "cb0edf69",
   "metadata": {},
   "outputs": [],
   "source": []
  }
 ],
 "metadata": {
  "kernelspec": {
   "display_name": "Python 3 (ipykernel)",
   "language": "python",
   "name": "python3"
  },
  "language_info": {
   "codemirror_mode": {
    "name": "ipython",
    "version": 3
   },
   "file_extension": ".py",
   "mimetype": "text/x-python",
   "name": "python",
   "nbconvert_exporter": "python",
   "pygments_lexer": "ipython3",
   "version": "3.9.7"
  }
 },
 "nbformat": 4,
 "nbformat_minor": 5
}
